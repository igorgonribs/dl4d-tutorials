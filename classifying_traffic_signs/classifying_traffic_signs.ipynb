{
 "cells": [
  {
   "attachments": {},
   "cell_type": "markdown",
   "metadata": {},
   "source": [
    "# Classifying traffic sign images\n",
    "\n",
    "In this training I am going to reproduce the example of the chapter 12 of the book Deep Learning for Dummies, which consists of training a Convolutional Neural Network to recognize and classifies traffic signs in static images.\n",
    "We are going to use the [GTSRB (German Traffic Sign Recognition Benchmark)](https://www.kaggle.com/datasets/meowmeowmeowmeowmeow/gtsrb-german-traffic-sign) Dataset, which contains more than 50.000 images and more than 40 classes."
   ]
  },
  {
   "cell_type": "code",
   "execution_count": 22,
   "metadata": {},
   "outputs": [],
   "source": [
    "import numpy as np\n",
    "import zipfile\n",
    "import pprint\n",
    "\n",
    "from skimage.transform import resize\n",
    "from imageio import imread\n",
    "\n",
    "import matplotlib.pyplot as plt\n",
    "%matplotlib inline\n",
    "\n",
    "import warnings\n",
    "warnings.filterwarnings(\"ignore\")"
   ]
  },
  {
   "cell_type": "code",
   "execution_count": 23,
   "metadata": {},
   "outputs": [],
   "source": [
    "import tensorflow as tf\n",
    "from tensorflow import keras\n",
    "from tensorflow.keras.models import Sequential\n",
    "from tensorflow.keras.optimizers import Adam\n",
    "from tensorflow.keras.preprocessing.image import ImageDataGenerator \n",
    "from tensorflow.keras.utils import to_categorical\n",
    "from tensorflow.keras.layers import Conv2D, MaxPooling2D\n",
    "from tensorflow.keras.layers import Flatten, Dense, Dropout"
   ]
  },
  {
   "attachments": {},
   "cell_type": "markdown",
   "metadata": {},
   "source": [
    "### Getting and Setting the dataset\n",
    "\n",
    "First things first, let's download the dataset:"
   ]
  },
  {
   "cell_type": "code",
   "execution_count": 24,
   "metadata": {},
   "outputs": [],
   "source": [
    "import urllib.request\n",
    "import os.path\n",
    "if not os.path.exists(\"GTSRB_Final_Training_Images.zip\"):\n",
    "    url = (\"https://sid.erda.dk/public/archives/\"\n",
    "    + \"daaeac0d7ce1152aea9b61d9f1e19370/\"\n",
    "    + \"GTSRB_Final_Training_Images.zip\")\n",
    "    filename = \"./GTSRB_Final_Training_Images.zip\"\n",
    "    urllib.request.urlretrieve(url, filename)"
   ]
  },
  {
   "attachments": {},
   "cell_type": "markdown",
   "metadata": {},
   "source": [
    "Here we are setting the size of the images (they will be resized in a little) and the size of the test set, that will be 20% of the full dataset. The others 80% will be used in the training phase."
   ]
  },
  {
   "cell_type": "code",
   "execution_count": 25,
   "metadata": {},
   "outputs": [],
   "source": [
    "IMG_SIZE = 32\n",
    "TEST_SIZE = 0.2"
   ]
  },
  {
   "attachments": {},
   "cell_type": "markdown",
   "metadata": {},
   "source": [
    "Now we are going to read the dataset file, resize the images and append the image and its label to the training set (represented by the X and y variables) or to the test set (represented by the Xt and yt variables). \n",
    "\n",
    "To decide to which dataset the image will be appended we just calculate a integer hash of the file name and divide it by 1000, if the result is below 0.2 we append to the test set, otherwise we append to the training set."
   ]
  },
  {
   "cell_type": "code",
   "execution_count": 26,
   "metadata": {},
   "outputs": [],
   "source": [
    "X, Xt, y, yt = list(), list(), list(), list()\n",
    "\n",
    "archive = zipfile.ZipFile(\n",
    "          'GTSRB_Final_Training_Images.zip', 'r')\n",
    "file_paths = [file for file in archive.namelist() \n",
    "              if '.ppm' in file]\n",
    "\n",
    "for filename in file_paths:\n",
    "    with archive.open(filename) as img_file:\n",
    "        img = imread(img_file.read())\n",
    "    img = resize(img, \n",
    "                 output_shape=(IMG_SIZE, IMG_SIZE),\n",
    "                 mode='reflect', anti_aliasing=True)\n",
    "    img_class = int(filename.split('/')[-2])\n",
    "    \n",
    "    if (hash(filename) % 1000) / 1000 > TEST_SIZE:\n",
    "        X.append(img)\n",
    "        y.append(img_class)\n",
    "    else:\n",
    "        Xt.append(img)\n",
    "        yt.append(img_class)\n",
    "\n",
    "archive.close()"
   ]
  },
  {
   "cell_type": "code",
   "execution_count": 27,
   "metadata": {},
   "outputs": [
    {
     "name": "stdout",
     "output_type": "stream",
     "text": [
      "Train size:31438 test size:7771 (0.198)\n"
     ]
    }
   ],
   "source": [
    "test_ratio = len(Xt) / len(file_paths)\n",
    "print(\"Train size:{} test size:{} ({:0.3f})\".format(len(X), \n",
    "                len(Xt), \n",
    "                test_ratio))"
   ]
  },
  {
   "attachments": {},
   "cell_type": "markdown",
   "metadata": {},
   "source": [
    "### Overfitting\n",
    "\n",
    "Here we have an histogram of the class distribution along the dataset. As we can see, we have a total of 43 classes, but some classes are more present than others, and this could be a problem because the training can be more influentiated by some classes."
   ]
  },
  {
   "cell_type": "code",
   "execution_count": 28,
   "metadata": {},
   "outputs": [
    {
     "name": "stdout",
     "output_type": "stream",
     "text": [
      "No classes:43\n"
     ]
    },
    {
     "data": {
      "image/png": "[encoded data removed]",
      "text/plain": [
       "<Figure size 432x288 with 1 Axes>"
      ]
     },
     "metadata": {
      "needs_background": "light"
     },
     "output_type": "display_data"
    }
   ],
   "source": [
    "classes, dist = np.unique(y+yt, return_counts=True)\n",
    "NUM_CLASSES = len(classes)\n",
    "print (\"No classes:{}\".format(NUM_CLASSES))\n",
    "\n",
    "plt.bar(classes, dist, align='center', alpha=0.5)\n",
    "plt.show()"
   ]
  },
  {
   "attachments": {},
   "cell_type": "markdown",
   "metadata": {},
   "source": [
    "To solve that we are going to calculate some weights for the classes according to the frequency the classes appear.\n",
    "\n",
    "Most common classes will have a higher weight, and less common classes will have a lower weight."
   ]
  },
  {
   "cell_type": "code",
   "execution_count": 29,
   "metadata": {},
   "outputs": [
    {
     "name": "stdout",
     "output_type": "stream",
     "text": [
      "Most common class in dataset: 2; frequency: 2250; weight: 0.05738478410569002\n",
      "Less common class in dataset: 0; frequency: 210; weight: 0.005355913183197735\n"
     ]
    }
   ],
   "source": [
    "class_weight = {c:dist[c]/np.sum(dist) for c in classes}\n",
    "\n",
    "most_frequent_class = np.where(dist == max(dist))[0][0]\n",
    "print(f'Most common class in dataset: {most_frequent_class}; frequency: {dist[most_frequent_class]}; weight: {class_weight[most_frequent_class]}')\n",
    "\n",
    "less_frequent_class = np.where(dist == min(dist))[0][0]\n",
    "print(f'Less common class in dataset: {less_frequent_class}; frequency: {dist[less_frequent_class]}; weight: {class_weight[less_frequent_class]}')"
   ]
  },
  {
   "attachments": {},
   "cell_type": "markdown",
   "metadata": {},
   "source": [
    "### More data\n",
    "\n",
    "Now we are using a data augmentation strategy. The idea is to automatically generate extra data by applying runtime transformations on the training images. By doing that we can provide more data to the CNN during the training phase, what can reduce the invariance of the data and give a better result due to the higher number of training data presented to the network.\n",
    "\n",
    "Here we applied re-scale, rotation, width and height shift transformations to the training images. For the test images we just resized the images."
   ]
  },
  {
   "cell_type": "code",
   "execution_count": 30,
   "metadata": {},
   "outputs": [],
   "source": [
    "batch_size = 256\n",
    "tgen=ImageDataGenerator(rescale=1./255,\n",
    "                        rotation_range=5,\n",
    "                        width_shift_range=0.10, \n",
    "                        height_shift_range=0.10)\n",
    "\n",
    "train_gen = tgen.flow(np.array(X), \n",
    "                      to_categorical(y), \n",
    "                      batch_size=batch_size)\n",
    "\n",
    "vgen=ImageDataGenerator(rescale=1./255)\n",
    "\n",
    "val_gen = vgen.flow(np.array(Xt), \n",
    "                    to_categorical(yt), \n",
    "                    batch_size=batch_size)"
   ]
  },
  {
   "attachments": {},
   "cell_type": "markdown",
   "metadata": {},
   "source": [
    "### The Network\n",
    "\n",
    "Now let's create our network. It will be composed by:\n",
    "1. Convolutional layer with 32 filters, kernel size 5x5, stride 1x1 and ReLU activation function\n",
    "2. Convolutional layer with 64 filters, kernel size 5x5, stride 1x1 and ReLU activation function\n",
    "3. Flatten layer to reshape the input to a unidimensional array\n",
    "4. Dense layer with 768 neurons and ReLU activation function\n",
    "5. Dropout of 40%, to prevent overfitting by deactivating some neurons randomly\n",
    "6. Dense output layer with 43 neurons (the number of classes) and ReLU activation function"
   ]
  },
  {
   "cell_type": "code",
   "execution_count": 31,
   "metadata": {},
   "outputs": [],
   "source": [
    "def small_cnn():\n",
    "    model = Sequential()\n",
    "    model.add(Conv2D(32, (5, 5), padding='same',\n",
    "                     input_shape=(IMG_SIZE, IMG_SIZE, 3),\n",
    "                     activation='relu'))\n",
    "    model.add(Conv2D(64, (5, 5), activation='relu'))   \n",
    "    model.add(Flatten())\n",
    "    model.add(Dense(768, activation='relu'))\n",
    "    model.add(Dropout(0.4))\n",
    "    model.add(Dense(NUM_CLASSES, activation='softmax'))\n",
    "    return model\n",
    "\n",
    "\n",
    "model = small_cnn()\n",
    "model.compile(loss='categorical_crossentropy', \n",
    "              optimizer=Adam(),\n",
    "              metrics=['accuracy'])"
   ]
  },
  {
   "attachments": {},
   "cell_type": "markdown",
   "metadata": {},
   "source": [
    "### Training and evaluating the model\n",
    "\n",
    "Finnaly, let's train the network with the dataset and classes weights"
   ]
  },
  {
   "cell_type": "code",
   "execution_count": 32,
   "metadata": {},
   "outputs": [
    {
     "name": "stdout",
     "output_type": "stream",
     "text": [
      "Epoch 1/10\n",
      " - 91s - loss: 3.0644 - acc: 0.0737 - val_loss: 3.4811 - val_acc: 0.1225\n",
      "Epoch 2/10\n",
      " - 96s - loss: 2.7684 - acc: 0.1377 - val_loss: 3.0224 - val_acc: 0.2142\n",
      "Epoch 3/10\n",
      " - 95s - loss: 2.3349 - acc: 0.2431 - val_loss: 2.1097 - val_acc: 0.4332\n",
      "Epoch 4/10\n",
      " - 95s - loss: 1.8137 - acc: 0.3544 - val_loss: 1.6305 - val_acc: 0.5238\n",
      "Epoch 5/10\n",
      " - 94s - loss: 1.5365 - acc: 0.4289 - val_loss: 1.3474 - val_acc: 0.5802\n",
      "Epoch 6/10\n",
      " - 95s - loss: 1.3309 - acc: 0.4860 - val_loss: 1.1352 - val_acc: 0.6522\n",
      "Epoch 7/10\n",
      " - 95s - loss: 1.1706 - acc: 0.5381 - val_loss: 0.9546 - val_acc: 0.7049\n",
      "Epoch 8/10\n",
      " - 95s - loss: 1.0367 - acc: 0.5878 - val_loss: 0.7922 - val_acc: 0.7436\n",
      "Epoch 9/10\n",
      " - 94s - loss: 0.9222 - acc: 0.6256 - val_loss: 0.6893 - val_acc: 0.7866\n",
      "Epoch 10/10\n",
      " - 95s - loss: 0.8370 - acc: 0.6594 - val_loss: 0.5871 - val_acc: 0.8137\n"
     ]
    }
   ],
   "source": [
    "history = model.fit_generator(train_gen,\n",
    "                              steps_per_epoch=len(X) // batch_size,\n",
    "                              validation_data=val_gen,\n",
    "                              validation_steps=len(Xt) // batch_size,\n",
    "                              class_weight=class_weight,\n",
    "                              epochs=10, \n",
    "                              verbose=2)"
   ]
  },
  {
   "cell_type": "code",
   "execution_count": 33,
   "metadata": {},
   "outputs": [
    {
     "name": "stdout",
     "output_type": "stream",
     "text": [
      "Best validation accuracy: 0.814\n"
     ]
    }
   ],
   "source": [
    "print(\"Best validation accuracy: {:0.3f}\"\n",
    "       .format(np.max(history.history['val_acc'])))"
   ]
  },
  {
   "cell_type": "code",
   "execution_count": 34,
   "metadata": {},
   "outputs": [
    {
     "data": {
      "image/png": "[encoded data removed]",
      "text/plain": [
       "<Figure size 432x288 with 1 Axes>"
      ]
     },
     "metadata": {
      "needs_background": "light"
     },
     "output_type": "display_data"
    }
   ],
   "source": [
    "plt.plot(history.history['acc'])\n",
    "plt.plot(history.history['val_acc'])\n",
    "plt.ylabel('accuracy'); plt.xlabel('epochs')\n",
    "plt.legend(['train', 'test'], loc='lower right')\n",
    "plt.show()"
   ]
  },
  {
   "attachments": {},
   "cell_type": "markdown",
   "metadata": {},
   "source": [
    "### A visual prediction demonstration\n",
    "\n",
    "For a small visual demonstration, lets ask the model to predict the class of a new image that I manually got from Google: "
   ]
  },
  {
   "cell_type": "code",
   "execution_count": 35,
   "metadata": {},
   "outputs": [],
   "source": [
    "img_demonstration = imread(\"stop_sign_from_google_images.jpg\")\n",
    "img_demonstration = resize(img_demonstration, \n",
    "            output_shape=(IMG_SIZE, IMG_SIZE),\n",
    "            mode='reflect', anti_aliasing=True)\n",
    "\n",
    "demonstration_set = list()\n",
    "demonstration_set.append(img_demonstration)"
   ]
  },
  {
   "cell_type": "code",
   "execution_count": 36,
   "metadata": {},
   "outputs": [
    {
     "name": "stdout",
     "output_type": "stream",
     "text": [
      "Generate a prediction\n",
      "Predicted Class: 14\n"
     ]
    }
   ],
   "source": [
    "print(\"Generate a prediction\")\n",
    "prediction = model.predict(np.array(demonstration_set))\n",
    "\n",
    "for idx in range(len(prediction[0])):\n",
    "    if prediction[0][idx] != 0:\n",
    "        print(\"Predicted Class: \" + str(idx))\n",
    "        break"
   ]
  },
  {
   "attachments": {},
   "cell_type": "markdown",
   "metadata": {},
   "source": [
    "To evaluate if the prediction is correct I took an class 14 image of the dataset, and this was the result:"
   ]
  },
  {
   "cell_type": "code",
   "execution_count": 37,
   "metadata": {},
   "outputs": [
    {
     "data": {
      "text/plain": [
       "<matplotlib.image.AxesImage at 0x2238009a0f0>"
      ]
     },
     "execution_count": 37,
     "metadata": {},
     "output_type": "execute_result"
    },
    {
     "data": {
      "image/png": "[encoded data removed]",
      "text/plain": [
       "<Figure size 432x288 with 1 Axes>"
      ]
     },
     "metadata": {
      "needs_background": "light"
     },
     "output_type": "display_data"
    }
   ],
   "source": [
    "stop_image_from_dataset = imread(\"sample_training_image_class_14.ppm\")\n",
    "plt.imshow(stop_image_from_dataset)"
   ]
  },
  {
   "attachments": {},
   "cell_type": "markdown",
   "metadata": {},
   "source": [
    "And the image I got from Google was... "
   ]
  },
  {
   "cell_type": "code",
   "execution_count": 38,
   "metadata": {},
   "outputs": [
    {
     "data": {
      "text/plain": [
       "<matplotlib.image.AxesImage at 0x22380101518>"
      ]
     },
     "execution_count": 38,
     "metadata": {},
     "output_type": "execute_result"
    },
    {
     "data": {
      "image/png": "[encoded data removed]",
      "text/plain": [
       "<Figure size 432x288 with 1 Axes>"
      ]
     },
     "metadata": {
      "needs_background": "light"
     },
     "output_type": "display_data"
    }
   ],
   "source": [
    "plt.imshow(img_demonstration)"
   ]
  },
  {
   "attachments": {},
   "cell_type": "markdown",
   "metadata": {},
   "source": [
    "## TA-DAAAA! :D"
   ]
  }
 ],
 "metadata": {
  "kernelspec": {
   "display_name": "DL4Denv",
   "language": "python",
   "name": "python3"
  },
  "language_info": {
   "codemirror_mode": {
    "name": "ipython",
    "version": 3
   },
   "file_extension": ".py",
   "mimetype": "text/x-python",
   "name": "python",
   "nbconvert_exporter": "python",
   "pygments_lexer": "ipython3",
   "version": "3.6.13"
  },
  "orig_nbformat": 4
 },
 "nbformat": 4,
 "nbformat_minor": 2
}
